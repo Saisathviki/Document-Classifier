{
 "cells": [
  {
   "cell_type": "code",
   "execution_count": 3,
   "id": "0e4a861e-707c-479f-a6af-2fddf4aeb270",
   "metadata": {},
   "outputs": [
    {
     "name": "stderr",
     "output_type": "stream",
     "text": [
      "2025-05-01 23:00:41.351 Thread 'MainThread': missing ScriptRunContext! This warning can be ignored when running in bare mode.\n",
      "2025-05-01 23:00:41.354 Thread 'MainThread': missing ScriptRunContext! This warning can be ignored when running in bare mode.\n",
      "2025-05-01 23:00:41.356 Thread 'MainThread': missing ScriptRunContext! This warning can be ignored when running in bare mode.\n",
      "2025-05-01 23:00:41.360 Thread 'MainThread': missing ScriptRunContext! This warning can be ignored when running in bare mode.\n",
      "2025-05-01 23:00:41.363 Thread 'MainThread': missing ScriptRunContext! This warning can be ignored when running in bare mode.\n",
      "2025-05-01 23:00:41.365 Thread 'MainThread': missing ScriptRunContext! This warning can be ignored when running in bare mode.\n",
      "2025-05-01 23:00:41.369 Thread 'MainThread': missing ScriptRunContext! This warning can be ignored when running in bare mode.\n",
      "2025-05-01 23:00:41.372 Thread 'MainThread': missing ScriptRunContext! This warning can be ignored when running in bare mode.\n",
      "2025-05-01 23:00:41.377 Thread 'MainThread': missing ScriptRunContext! This warning can be ignored when running in bare mode.\n",
      "2025-05-01 23:00:41.378 Thread 'MainThread': missing ScriptRunContext! This warning can be ignored when running in bare mode.\n",
      "2025-05-01 23:00:41.380 Thread 'MainThread': missing ScriptRunContext! This warning can be ignored when running in bare mode.\n",
      "2025-05-01 23:00:41.381 Thread 'MainThread': missing ScriptRunContext! This warning can be ignored when running in bare mode.\n",
      "2025-05-01 23:00:41.386 Thread 'MainThread': missing ScriptRunContext! This warning can be ignored when running in bare mode.\n",
      "2025-05-01 23:00:41.388 Thread 'MainThread': missing ScriptRunContext! This warning can be ignored when running in bare mode.\n",
      "2025-05-01 23:00:41.394 Thread 'MainThread': missing ScriptRunContext! This warning can be ignored when running in bare mode.\n",
      "2025-05-01 23:00:41.397 Thread 'MainThread': missing ScriptRunContext! This warning can be ignored when running in bare mode.\n",
      "2025-05-01 23:00:41.398 Thread 'MainThread': missing ScriptRunContext! This warning can be ignored when running in bare mode.\n",
      "2025-05-01 23:00:41.403 Thread 'MainThread': missing ScriptRunContext! This warning can be ignored when running in bare mode.\n",
      "2025-05-01 23:00:41.409 Thread 'MainThread': missing ScriptRunContext! This warning can be ignored when running in bare mode.\n",
      "2025-05-01 23:00:41.413 Thread 'MainThread': missing ScriptRunContext! This warning can be ignored when running in bare mode.\n",
      "2025-05-01 23:00:41.420 Thread 'MainThread': missing ScriptRunContext! This warning can be ignored when running in bare mode.\n",
      "2025-05-01 23:00:41.423 Thread 'MainThread': missing ScriptRunContext! This warning can be ignored when running in bare mode.\n",
      "2025-05-01 23:00:41.428 Thread 'MainThread': missing ScriptRunContext! This warning can be ignored when running in bare mode.\n",
      "2025-05-01 23:00:41.431 Thread 'MainThread': missing ScriptRunContext! This warning can be ignored when running in bare mode.\n",
      "2025-05-01 23:00:41.433 Thread 'MainThread': missing ScriptRunContext! This warning can be ignored when running in bare mode.\n",
      "2025-05-01 23:00:41.438 Thread 'MainThread': missing ScriptRunContext! This warning can be ignored when running in bare mode.\n",
      "2025-05-01 23:00:41.441 Thread 'MainThread': missing ScriptRunContext! This warning can be ignored when running in bare mode.\n",
      "2025-05-01 23:00:41.447 Thread 'MainThread': missing ScriptRunContext! This warning can be ignored when running in bare mode.\n",
      "2025-05-01 23:00:41.455 Thread 'MainThread': missing ScriptRunContext! This warning can be ignored when running in bare mode.\n"
     ]
    }
   ],
   "source": [
    "import streamlit as st\n",
    "import joblib\n",
    "import pandas as pd\n",
    "\n",
    "# Load model\n",
    "model = joblib.load('news_classifier.pkl')\n",
    "\n",
    "# Class mapping\n",
    "class_map = {\n",
    "    0: \"World\",\n",
    "    1: \"Sports\",\n",
    "    2: \"Business\",\n",
    "    3: \"Science/Tech\"\n",
    "}\n",
    "\n",
    "st.title(\"📰 News Article Classifier\")\n",
    "st.markdown(\"Classify articles into: World, Sports, Business, or Science/Tech\")\n",
    "\n",
    "# Input options\n",
    "tab1, tab2 = st.tabs([\"Text Input\", \"File Upload\"])\n",
    "\n",
    "with tab1:\n",
    "    text = st.text_area(\"Enter article text:\", height=200)\n",
    "    if st.button(\"Classify\"):\n",
    "        if text:\n",
    "            prediction = model.predict([text])[0]\n",
    "            st.success(f\"Predicted Category: **{class_map[prediction]}**\")\n",
    "        else:\n",
    "            st.warning(\"Please enter some text\")\n",
    "\n",
    "with tab2:\n",
    "    file = st.file_uploader(\"Upload text file\", type=[\"txt\"])\n",
    "    if file:\n",
    "        text = file.read().decode(\"utf-8\")\n",
    "        st.text_area(\"File Content\", text, height=200)\n",
    "        if st.button(\"Classify File\"):\n",
    "            prediction = model.predict([text])[0]\n",
    "            st.success(f\"Predicted Category: **{class_map[prediction]}**\")\n",
    "\n",
    "st.markdown(\"---\")\n",
    "st.write(\"Model Accuracy: 91.2% (Linear SVM)\")"
   ]
  },
  {
   "cell_type": "code",
   "execution_count": null,
   "id": "5f0acbfd-8e83-4749-a928-3bfdc03de21c",
   "metadata": {},
   "outputs": [],
   "source": []
  }
 ],
 "metadata": {
  "kernelspec": {
   "display_name": "Python [conda env:base] *",
   "language": "python",
   "name": "conda-base-py"
  },
  "language_info": {
   "codemirror_mode": {
    "name": "ipython",
    "version": 3
   },
   "file_extension": ".py",
   "mimetype": "text/x-python",
   "name": "python",
   "nbconvert_exporter": "python",
   "pygments_lexer": "ipython3",
   "version": "3.12.7"
  }
 },
 "nbformat": 4,
 "nbformat_minor": 5
}
