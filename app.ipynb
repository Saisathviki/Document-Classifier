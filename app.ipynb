{
 "cells": [
  {
   "cell_type": "code",
   "execution_count": 2,
   "id": "0e4a861e-707c-479f-a6af-2fddf4aeb270",
   "metadata": {},
   "outputs": [
    {
     "name": "stderr",
     "output_type": "stream",
     "text": [
      "2025-05-04 21:40:30.805 Thread 'MainThread': missing ScriptRunContext! This warning can be ignored when running in bare mode.\n",
      "2025-05-04 21:40:30.806 Thread 'MainThread': missing ScriptRunContext! This warning can be ignored when running in bare mode.\n",
      "2025-05-04 21:40:30.807 Thread 'MainThread': missing ScriptRunContext! This warning can be ignored when running in bare mode.\n",
      "2025-05-04 21:40:30.809 Thread 'MainThread': missing ScriptRunContext! This warning can be ignored when running in bare mode.\n",
      "2025-05-04 21:40:30.810 Thread 'MainThread': missing ScriptRunContext! This warning can be ignored when running in bare mode.\n",
      "2025-05-04 21:40:30.811 Thread 'MainThread': missing ScriptRunContext! This warning can be ignored when running in bare mode.\n",
      "2025-05-04 21:40:30.812 Thread 'MainThread': missing ScriptRunContext! This warning can be ignored when running in bare mode.\n",
      "2025-05-04 21:40:30.814 Thread 'MainThread': missing ScriptRunContext! This warning can be ignored when running in bare mode.\n",
      "2025-05-04 21:40:30.816 Thread 'MainThread': missing ScriptRunContext! This warning can be ignored when running in bare mode.\n",
      "2025-05-04 21:40:30.817 Thread 'MainThread': missing ScriptRunContext! This warning can be ignored when running in bare mode.\n",
      "2025-05-04 21:40:30.818 Thread 'MainThread': missing ScriptRunContext! This warning can be ignored when running in bare mode.\n",
      "2025-05-04 21:40:30.820 Thread 'MainThread': missing ScriptRunContext! This warning can be ignored when running in bare mode.\n",
      "2025-05-04 21:40:30.821 Thread 'MainThread': missing ScriptRunContext! This warning can be ignored when running in bare mode.\n",
      "2025-05-04 21:40:30.822 Thread 'MainThread': missing ScriptRunContext! This warning can be ignored when running in bare mode.\n",
      "2025-05-04 21:40:30.823 Thread 'MainThread': missing ScriptRunContext! This warning can be ignored when running in bare mode.\n",
      "2025-05-04 21:40:30.824 Thread 'MainThread': missing ScriptRunContext! This warning can be ignored when running in bare mode.\n",
      "2025-05-04 21:40:30.825 Thread 'MainThread': missing ScriptRunContext! This warning can be ignored when running in bare mode.\n",
      "2025-05-04 21:40:30.826 Thread 'MainThread': missing ScriptRunContext! This warning can be ignored when running in bare mode.\n",
      "2025-05-04 21:40:30.827 Thread 'MainThread': missing ScriptRunContext! This warning can be ignored when running in bare mode.\n",
      "2025-05-04 21:40:30.829 Thread 'MainThread': missing ScriptRunContext! This warning can be ignored when running in bare mode.\n",
      "2025-05-04 21:40:30.830 Thread 'MainThread': missing ScriptRunContext! This warning can be ignored when running in bare mode.\n",
      "2025-05-04 21:40:30.831 Thread 'MainThread': missing ScriptRunContext! This warning can be ignored when running in bare mode.\n",
      "2025-05-04 21:40:30.832 Thread 'MainThread': missing ScriptRunContext! This warning can be ignored when running in bare mode.\n",
      "2025-05-04 21:40:30.834 Thread 'MainThread': missing ScriptRunContext! This warning can be ignored when running in bare mode.\n",
      "2025-05-04 21:40:30.835 Thread 'MainThread': missing ScriptRunContext! This warning can be ignored when running in bare mode.\n",
      "2025-05-04 21:40:30.837 Thread 'MainThread': missing ScriptRunContext! This warning can be ignored when running in bare mode.\n",
      "2025-05-04 21:40:30.838 Thread 'MainThread': missing ScriptRunContext! This warning can be ignored when running in bare mode.\n",
      "2025-05-04 21:40:30.839 Thread 'MainThread': missing ScriptRunContext! This warning can be ignored when running in bare mode.\n",
      "2025-05-04 21:40:30.840 Thread 'MainThread': missing ScriptRunContext! This warning can be ignored when running in bare mode.\n"
     ]
    }
   ],
   "source": [
    "import streamlit as st\n",
    "import joblib\n",
    "import pandas as pd\n",
    "\n",
    "# Load model\n",
    "model = joblib.load('news_classifier.pkl')\n",
    "\n",
    "# Class mapping\n",
    "class_map = {\n",
    "    0: \"World\",\n",
    "    1: \"Sports\",\n",
    "    2: \"Business\",\n",
    "    3: \"Science/Tech\"\n",
    "}\n",
    "\n",
    "st.title(\"📰 News Article Classifier\")\n",
    "st.markdown(\"Classify articles into: World, Sports, Business, or Science/Tech\")\n",
    "\n",
    "# Input options\n",
    "tab1, tab2 = st.tabs([\"Text Input\", \"File Upload\"])\n",
    "\n",
    "with tab1:\n",
    "    text = st.text_area(\"Enter article text:\", height=200)\n",
    "    if st.button(\"Classify\"):\n",
    "        if text:\n",
    "            prediction = model.predict([text])[0]\n",
    "            st.success(f\"Predicted Category: **{class_map[prediction]}**\")\n",
    "        else:\n",
    "            st.warning(\"Please enter some text\")\n",
    "\n",
    "with tab2:\n",
    "    file = st.file_uploader(\"Upload text file\", type=[\"txt\"])\n",
    "    if file:\n",
    "        text = file.read().decode(\"utf-8\")\n",
    "        st.text_area(\"File Content\", text, height=200)\n",
    "        if st.button(\"Classify File\"):\n",
    "            prediction = model.predict([text])[0]\n",
    "            st.success(f\"Predicted Category: **{class_map[prediction]}**\")\n",
    "\n",
    "st.markdown(\"---\")\n",
    "st.write(\"Model Accuracy: 91.2% (Linear SVM)\")"
   ]
  },
  {
   "cell_type": "code",
   "execution_count": null,
   "id": "5f0acbfd-8e83-4749-a928-3bfdc03de21c",
   "metadata": {},
   "outputs": [],
   "source": []
  }
 ],
 "metadata": {
  "kernelspec": {
   "display_name": "Python [conda env:base] *",
   "language": "python",
   "name": "conda-base-py"
  },
  "language_info": {
   "codemirror_mode": {
    "name": "ipython",
    "version": 3
   },
   "file_extension": ".py",
   "mimetype": "text/x-python",
   "name": "python",
   "nbconvert_exporter": "python",
   "pygments_lexer": "ipython3",
   "version": "3.12.7"
  }
 },
 "nbformat": 4,
 "nbformat_minor": 5
}
