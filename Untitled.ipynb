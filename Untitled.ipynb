{
 "cells": [
  {
   "cell_type": "code",
   "execution_count": 19,
   "id": "fa5f0564-e84d-42f1-a27c-c8606d315112",
   "metadata": {},
   "outputs": [
    {
     "name": "stdout",
     "output_type": "stream",
     "text": [
      "Class distribution in training set:\n",
      "class\n",
      "2    30000\n",
      "3    30000\n",
      "1    30000\n",
      "0    30000\n",
      "Name: count, dtype: int64\n",
      "\n",
      "Class distribution in test set:\n",
      "class\n",
      "2    1900\n",
      "3    1900\n",
      "1    1900\n",
      "0    1900\n",
      "Name: count, dtype: int64\n",
      "\n",
      "Training Naive Bayes...\n",
      "Test Accuracy: 0.8882\n",
      "              precision    recall  f1-score   support\n",
      "\n",
      "           0       0.90      0.89      0.89      1900\n",
      "           1       0.93      0.97      0.95      1900\n",
      "           2       0.87      0.83      0.85      1900\n",
      "           3       0.85      0.87      0.86      1900\n",
      "\n",
      "    accuracy                           0.89      7600\n",
      "   macro avg       0.89      0.89      0.89      7600\n",
      "weighted avg       0.89      0.89      0.89      7600\n",
      "\n",
      "\n",
      "Training Logistic Regression...\n",
      "Test Accuracy: 0.9062\n",
      "              precision    recall  f1-score   support\n",
      "\n",
      "           0       0.92      0.91      0.91      1900\n",
      "           1       0.96      0.97      0.96      1900\n",
      "           2       0.87      0.87      0.87      1900\n",
      "           3       0.88      0.88      0.88      1900\n",
      "\n",
      "    accuracy                           0.91      7600\n",
      "   macro avg       0.91      0.91      0.91      7600\n",
      "weighted avg       0.91      0.91      0.91      7600\n",
      "\n",
      "\n",
      "Training Linear SVM...\n",
      "Test Accuracy: 0.9116\n",
      "              precision    recall  f1-score   support\n",
      "\n",
      "           0       0.93      0.90      0.92      1900\n",
      "           1       0.95      0.98      0.97      1900\n",
      "           2       0.87      0.87      0.87      1900\n",
      "           3       0.89      0.89      0.89      1900\n",
      "\n",
      "    accuracy                           0.91      7600\n",
      "   macro avg       0.91      0.91      0.91      7600\n",
      "weighted avg       0.91      0.91      0.91      7600\n",
      "\n"
     ]
    },
    {
     "data": {
      "image/png": "[encoded data removed]",
      "text/plain": [
       "<Figure size 1000x500 with 1 Axes>"
      ]
     },
     "metadata": {},
     "output_type": "display_data"
    },
    {
     "data": {
      "text/plain": [
       "['news_classifier.pkl']"
      ]
     },
     "execution_count": 19,
     "metadata": {},
     "output_type": "execute_result"
    }
   ],
   "source": [
    "import pandas as pd\n",
    "from sklearn.model_selection import train_test_split\n",
    "from sklearn.feature_extraction.text import TfidfVectorizer\n",
    "from sklearn.pipeline import make_pipeline\n",
    "from sklearn.naive_bayes import MultinomialNB\n",
    "from sklearn.linear_model import LogisticRegression\n",
    "from sklearn.svm import LinearSVC\n",
    "from sklearn.metrics import accuracy_score, classification_report\n",
    "import matplotlib.pyplot as plt\n",
    "import seaborn as sns\n",
    "\n",
    "# 1. Load data with proper type conversion\n",
    "def load_data():\n",
    "    # Load CSVs assuming they have headers (which AG News does)\n",
    "    train_df = pd.read_csv('ag_news/train.csv')  # header is present\n",
    "    test_df = pd.read_csv('ag_news/test.csv')\n",
    "\n",
    "    # Combine title and description\n",
    "    train_df['text'] = train_df['Title'] + ' ' + train_df['Description']\n",
    "    test_df['text'] = test_df['Title'] + ' ' + test_df['Description']\n",
    "\n",
    "    # Convert class from 1-4 to 0-3\n",
    "    train_df['Class Index'] = train_df['Class Index'].astype(int) - 1\n",
    "    test_df['Class Index'] = test_df['Class Index'].astype(int) - 1\n",
    "\n",
    "    # Rename for consistency\n",
    "    train_df.rename(columns={'Class Index': 'class'}, inplace=True)\n",
    "    test_df.rename(columns={'Class Index': 'class'}, inplace=True)\n",
    "\n",
    "    return train_df, test_df\n",
    "\n",
    "\n",
    "# 2. Load and verify data\n",
    "train_df, test_df = load_data()\n",
    "print(\"Class distribution in training set:\")\n",
    "print(train_df['class'].value_counts())\n",
    "print(\"\\nClass distribution in test set:\")\n",
    "print(test_df['class'].value_counts())\n",
    "\n",
    "# 3. Prepare features and labels\n",
    "X_train, y_train = train_df['text'], train_df['class']\n",
    "X_test, y_test = test_df['text'], test_df['class']\n",
    "\n",
    "# 4. Model training with proper pipeline\n",
    "models = {\n",
    "    \"Naive Bayes\": make_pipeline(\n",
    "        TfidfVectorizer(max_features=10000, ngram_range=(1, 2)),\n",
    "        MultinomialNB(alpha=0.1)\n",
    "    ),\n",
    "    \"Logistic Regression\": make_pipeline(\n",
    "        TfidfVectorizer(max_features=10000, ngram_range=(1, 2)),\n",
    "        LogisticRegression(max_iter=1000, C=10)\n",
    "    ),\n",
    "    \"Linear SVM\": make_pipeline(\n",
    "        TfidfVectorizer(max_features=10000, ngram_range=(1, 2)),\n",
    "        LinearSVC(C=1.0)\n",
    "    )\n",
    "}\n",
    "\n",
    "results = {}\n",
    "for name, model in models.items():\n",
    "    print(f\"\\nTraining {name}...\")\n",
    "    \n",
    "    # Train on training set\n",
    "    model.fit(X_train, y_train)\n",
    "    \n",
    "    # Evaluate on test set\n",
    "    y_pred = model.predict(X_test)\n",
    "    accuracy = accuracy_score(y_test, y_pred)\n",
    "    report = classification_report(y_test, y_pred)\n",
    "    \n",
    "    results[name] = {\n",
    "        'model': model,\n",
    "        'accuracy': accuracy,\n",
    "        'report': report\n",
    "    }\n",
    "    \n",
    "    print(f\"Test Accuracy: {accuracy:.4f}\")\n",
    "    print(report)\n",
    "\n",
    "# 5. Visualization\n",
    "accuracies = {name: results[name]['accuracy'] for name in results}\n",
    "plt.figure(figsize=(10, 5))\n",
    "sns.barplot(x=list(accuracies.keys()), y=list(accuracies.values()))\n",
    "plt.title('Model Accuracy on Held-Out Test Set')\n",
    "plt.ylim(0.85, 0.95)  # Realistic range for AG News\n",
    "plt.ylabel('Accuracy')\n",
    "plt.show()\n",
    "\n",
    "import joblib\n",
    "from sklearn.pipeline import Pipeline\n",
    "\n",
    "# Save the entire pipeline (vectorizer + model)\n",
    "best_model = make_pipeline(\n",
    "    TfidfVectorizer(max_features=10000, ngram_range=(1, 2)),\n",
    "    LinearSVC(C=1.0)\n",
    ")\n",
    "best_model.fit(X_train, y_train)\n",
    "joblib.dump(best_model, 'news_classifier.pkl')\n"
   ]
  },
  {
   "cell_type": "code",
   "execution_count": 11,
   "id": "1e531471-3f21-46b0-ae76-09704d14f89f",
   "metadata": {},
   "outputs": [
    {
     "name": "stdout",
     "output_type": "stream",
     "text": [
      "Index(['Class Index', 'Title', 'Description'], dtype='object')\n"
     ]
    }
   ],
   "source": [
    " \n",
    "print(train_df.columns)\n"
   ]
  },
  {
   "cell_type": "code",
   "execution_count": 9,
   "id": "612a67a1-7e55-4a99-9879-b462e4bcf904",
   "metadata": {},
   "outputs": [
    {
     "name": "stdout",
     "output_type": "stream",
     "text": [
      "   Class Index                                              Title  \\\n",
      "0            3  Wall St. Bears Claw Back Into the Black (Reuters)   \n",
      "1            3  Carlyle Looks Toward Commercial Aerospace (Reu...   \n",
      "2            3    Oil and Economy Cloud Stocks' Outlook (Reuters)   \n",
      "3            3  Iraq Halts Oil Exports from Main Southern Pipe...   \n",
      "4            3  Oil prices soar to all-time record, posing new...   \n",
      "\n",
      "                                         Description  \n",
      "0  Reuters - Short-sellers, Wall Street's dwindli...  \n",
      "1  Reuters - Private investment firm Carlyle Grou...  \n",
      "2  Reuters - Soaring crude prices plus worries\\ab...  \n",
      "3  Reuters - Authorities have halted oil export\\f...  \n",
      "4  AFP - Tearaway world oil prices, toppling reco...  \n"
     ]
    }
   ],
   "source": [
    "print(train_df.head())\n"
   ]
  },
  {
   "cell_type": "code",
   "execution_count": 20,
   "id": "40f1e1a0-d2f6-4bc9-892a-ad7e90638159",
   "metadata": {},
   "outputs": [
    {
     "data": {
      "text/plain": [
       "['news_classifier.pkl']"
      ]
     },
     "execution_count": 20,
     "metadata": {},
     "output_type": "execute_result"
    }
   ],
   "source": []
  },
  {
   "cell_type": "code",
   "execution_count": null,
   "id": "260b7def-9059-41d2-9246-c5ff57285371",
   "metadata": {},
   "outputs": [],
   "source": []
  }
 ],
 "metadata": {
  "kernelspec": {
   "display_name": "Python [conda env:base] *",
   "language": "python",
   "name": "conda-base-py"
  },
  "language_info": {
   "codemirror_mode": {
    "name": "ipython",
    "version": 3
   },
   "file_extension": ".py",
   "mimetype": "text/x-python",
   "name": "python",
   "nbconvert_exporter": "python",
   "pygments_lexer": "ipython3",
   "version": "3.12.7"
  }
 },
 "nbformat": 4,
 "nbformat_minor": 5
}
